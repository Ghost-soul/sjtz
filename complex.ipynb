{
 "cells": [
  {
   "cell_type": "code",
   "execution_count": 2,
   "metadata": {},
   "outputs": [
    {
     "data": {
      "text/plain": [
       "False"
      ]
     },
     "execution_count": 2,
     "metadata": {},
     "output_type": "execute_result"
    }
   ],
   "source": [
    "from WindPy import w\n",
    "import sys\n",
    "sys.path.append(\"..\")\n",
    "from call_model import call_model\n",
    "import datetime\n",
    "import os\n",
    "import matplotlib.pyplot as plt\n",
    "import pandas as pd\n",
    "import numpy as np\n",
    "today = datetime.date.today()\n",
    "#print(today)\n",
    "w.start() # 默认命令超时时间为120秒，如需设置超时时间可以加入waitTime参数，例如waitTime=60,即设置命令超时时间为60秒 \n",
    "\n",
    "w.isconnected() # 判断WindPy是否已经登录成功"
   ]
  },
  {
   "cell_type": "code",
   "execution_count": 4,
   "metadata": {},
   "outputs": [
    {
     "data": {
      "text/plain": [
       "True"
      ]
     },
     "execution_count": 4,
     "metadata": {},
     "output_type": "execute_result"
    }
   ],
   "source": [
    "import json\n",
    "from gpt_researcher import GPTResearcher\n",
    "import asyncio\n",
    "from dotenv import load_dotenv\n",
    "import time\n",
    "load_dotenv(r\"C:\\Users\\zyx\\Desktop\\s\\QuantAgent\\sjtz\\.env\")"
   ]
  },
  {
   "cell_type": "code",
   "execution_count": 10,
   "metadata": {},
   "outputs": [],
   "source": [
    "async def get_research_report(query: str, report_type: str, report_source: str,config_path:str) -> str:\n",
    "    researcher = GPTResearcher(query=query, report_type=report_type, report_source=report_source,config_path=config_path)\n",
    "    research = await researcher.conduct_research()\n",
    "    report = await researcher.write_report()\n",
    "    return report\n",
    "async def stragety(prompt: str) -> str:\n",
    "    result = await get_research_report(query=prompt, report_type=\"research_report\", report_source=\"hybrid\",config_path= \"stragety.json\")\n",
    "    return result"
   ]
  },
  {
   "cell_type": "code",
   "execution_count": 11,
   "metadata": {},
   "outputs": [
    {
     "ename": "RuntimeError",
     "evalue": "asyncio.run() cannot be called from a running event loop",
     "output_type": "error",
     "traceback": [
      "\u001b[31m---------------------------------------------------------------------------\u001b[39m",
      "\u001b[31mRuntimeError\u001b[39m                              Traceback (most recent call last)",
      "\u001b[36mCell\u001b[39m\u001b[36m \u001b[39m\u001b[32mIn[11]\u001b[39m\u001b[32m, line 2\u001b[39m\n\u001b[32m      1\u001b[39m prompt = \u001b[33m\"\u001b[39m\u001b[33m黄金 期货\u001b[39m\u001b[33m\"\u001b[39m\n\u001b[32m----> \u001b[39m\u001b[32m2\u001b[39m result = \u001b[43masyncio\u001b[49m\u001b[43m.\u001b[49m\u001b[43mrun\u001b[49m\u001b[43m(\u001b[49m\u001b[43mstragety\u001b[49m\u001b[43m(\u001b[49m\u001b[43mprompt\u001b[49m\u001b[43m)\u001b[49m\u001b[43m)\u001b[49m\n",
      "\u001b[36mFile \u001b[39m\u001b[32mc:\\python\\envs\\sjtz\\Lib\\asyncio\\runners.py:186\u001b[39m, in \u001b[36mrun\u001b[39m\u001b[34m(main, debug)\u001b[39m\n\u001b[32m    161\u001b[39m \u001b[38;5;250m\u001b[39m\u001b[33;03m\"\"\"Execute the coroutine and return the result.\u001b[39;00m\n\u001b[32m    162\u001b[39m \n\u001b[32m    163\u001b[39m \u001b[33;03mThis function runs the passed coroutine, taking care of\u001b[39;00m\n\u001b[32m   (...)\u001b[39m\u001b[32m    182\u001b[39m \u001b[33;03m    asyncio.run(main())\u001b[39;00m\n\u001b[32m    183\u001b[39m \u001b[33;03m\"\"\"\u001b[39;00m\n\u001b[32m    184\u001b[39m \u001b[38;5;28;01mif\u001b[39;00m events._get_running_loop() \u001b[38;5;129;01mis\u001b[39;00m \u001b[38;5;129;01mnot\u001b[39;00m \u001b[38;5;28;01mNone\u001b[39;00m:\n\u001b[32m    185\u001b[39m     \u001b[38;5;66;03m# fail fast with short traceback\u001b[39;00m\n\u001b[32m--> \u001b[39m\u001b[32m186\u001b[39m     \u001b[38;5;28;01mraise\u001b[39;00m \u001b[38;5;167;01mRuntimeError\u001b[39;00m(\n\u001b[32m    187\u001b[39m         \u001b[33m\"\u001b[39m\u001b[33masyncio.run() cannot be called from a running event loop\u001b[39m\u001b[33m\"\u001b[39m)\n\u001b[32m    189\u001b[39m \u001b[38;5;28;01mwith\u001b[39;00m Runner(debug=debug) \u001b[38;5;28;01mas\u001b[39;00m runner:\n\u001b[32m    190\u001b[39m     \u001b[38;5;28;01mreturn\u001b[39;00m runner.run(main)\n",
      "\u001b[31mRuntimeError\u001b[39m: asyncio.run() cannot be called from a running event loop"
     ]
    }
   ],
   "source": [
    "prompt = \"黄金 期货\"\n",
    "result = asyncio.run(stragety(prompt))"
   ]
  },
  {
   "cell_type": "code",
   "execution_count": null,
   "metadata": {},
   "outputs": [],
   "source": []
  },
  {
   "cell_type": "code",
   "execution_count": null,
   "metadata": {},
   "outputs": [
    {
     "data": {
      "text/plain": [
       "'\\n\\n[\"1\",\"web科学\",\"3\"]'"
      ]
     },
     "execution_count": 3,
     "metadata": {},
     "output_type": "execute_result"
    }
   ],
   "source": [
    "def keys2codes(keys,path):\n",
    "    \"\"\"\n",
    "    将key转换为codes\n",
    "    \"\"\"\n",
    "    data = pd.read_excel(path)\n",
    "    prompt = f\"\"\"\n",
    "    请从下列表格中选取与每个关键词最对应的字段，并返回对应字段的code。如果没有非常相关的字段，请返回\"web\"+原关键词。\n",
    "    关键词如下：{keys}\n",
    "    表格如下：{data}\n",
    "    返回格式为：[\"code1\",\"code2\",\"code3\",...]或者[\"code1\",\"code2:\",\"web\"+原关键词3,...]\n",
    "    \"\"\"\n",
    "    response = call_model(prompt)\n",
    "    return response\n",
    "name = [\"数论\",\"科学\",\"化工\"]\n",
    "keys2codes(name,\"re.xlsx\")"
   ]
  },
  {
   "cell_type": "code",
   "execution_count": null,
   "metadata": {},
   "outputs": [],
   "source": [
    "def get_data(codes,days=30):\n",
    "    begin = today - datetime.timedelta(days)\n",
    "    data_xiusu = w.edb([\"S5470449\"],str(begin), end_date=str(today),Fill=\"Previous\",usedf = True)[1] #溴素"
   ]
  },
  {
   "cell_type": "code",
   "execution_count": null,
   "metadata": {},
   "outputs": [],
   "source": [
    "from langchain.embeddings import NomicEmbeddings\n",
    "\n",
    "# 初始化 Nomic 嵌入模型（需要 API 密钥，首次使用需注册）\n",
    "nomic_embeddings = NomicEmbeddings(\n",
    "    model=\"nomic-embed-text-v1\",\n",
    "    nomic_api_key=\"你的API密钥\"  # 在 https://atlas.nomic.ai 获取\n",
    ")\n",
    "\n",
    "# 或者使用本地模式（需提前下载模型）\n",
    "# nomic_embeddings = NomicEmbeddings(model=\"nomic-embed-text-v1\", local=True)"
   ]
  }
 ],
 "metadata": {
  "kernelspec": {
   "display_name": "sjtz",
   "language": "python",
   "name": "python3"
  },
  "language_info": {
   "codemirror_mode": {
    "name": "ipython",
    "version": 3
   },
   "file_extension": ".py",
   "mimetype": "text/x-python",
   "name": "python",
   "nbconvert_exporter": "python",
   "pygments_lexer": "ipython3",
   "version": "3.11.11"
  }
 },
 "nbformat": 4,
 "nbformat_minor": 2
}
